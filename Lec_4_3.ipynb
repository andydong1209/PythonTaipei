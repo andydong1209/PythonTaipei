{
 "cells": [
  {
   "cell_type": "code",
   "execution_count": 1,
   "metadata": {},
   "outputs": [
    {
     "name": "stdout",
     "output_type": "stream",
     "text": [
      "105.77449628297312\n",
      "105.77449628297312\n",
      "105.86560422617626\n",
      "105.86560422617626\n",
      "105.77449630684087\n",
      "105.77449630684087\n",
      "105.28388408564302\n",
      "105.28388408564302\n",
      "105.21862882184999\n",
      "105.21862882184999\n",
      "105.31959062514876\n",
      "105.31959062514876\n",
      "105.4878665910092\n",
      "105.4878665910092\n",
      "105.68032097997069\n",
      "105.68032097997069\n",
      "105.87580392550738\n",
      "105.87580392550738\n",
      "106.06201665731291\n",
      "106.06201665731291\n",
      "106.23044639785398\n",
      "106.23044639785398\n",
      "106.37409239272378\n",
      "106.37409239272378\n",
      "106.48708827051848\n",
      "106.48708827051848\n",
      "106.56505211776529\n",
      "106.56505211776529\n",
      "106.60570731948839\n",
      "106.60570731948839\n",
      "106.60980201489313\n",
      "106.60980201489313\n",
      "106.58011180701672\n",
      "106.58011180701672\n",
      "106.5207067677768\n"
     ]
    },
    {
     "data": {
      "image/png": "[encoded data removed]",
      "text/plain": [
       "<Figure size 432x288 with 1 Axes>"
      ]
     },
     "metadata": {},
     "output_type": "display_data"
    },
    {
     "name": "stdout",
     "output_type": "stream",
     "text": [
      "106.85839350576049\n"
     ]
    }
   ],
   "source": [
    "%matplotlib inline\n",
    "import numpy as np\n",
    "from QuantLib import *\n",
    "import matplotlib.pyplot as plt\n",
    "\n",
    "today = Date(17, October, 2016)\n",
    "Settings.instance().evaluationDate = today\n",
    "\n",
    "data = [ (2, 0.02), (4, 0.0225), (6, 0.025), (8, 0.0275), (10, 0.03), (12, 0.0325), \n",
    "\t(14, 0.035), (16, 0.0375), (18, 0.04), (20, 0.0425), (22, 0.045), (24, 0.0475),\n",
    "\t(26, 0.05), (28, 0.0525), (30, 0.055)]\n",
    "\n",
    "calendar = TARGET()\n",
    "settlement = calendar.advance(today, 3, Days)\n",
    "quotes = []\n",
    "helpers = []\n",
    "for length, coupon in data:\n",
    "\tmaturity = calendar.advance(settlement, length, Years)\n",
    "\tschedule = Schedule(settlement, maturity, Period(Annual), calendar,\n",
    "\t\tModifiedFollowing, ModifiedFollowing, DateGeneration.Backward, False)\n",
    "\tquote = SimpleQuote(100.0)\n",
    "\tquotes.append(quote)\n",
    "\thelpers.append(FixedRateBondHelper(QuoteHandle(quote), 3, 100.0, schedule, [coupon],\n",
    "\t\tSimpleDayCounter(), ModifiedFollowing))\n",
    "\tcurve = FittedBondDiscountCurve(0, calendar, helpers, SimpleDayCounter(),\n",
    "\t\tNelsonSiegelFitting())\n",
    "\n",
    "sample_times = np.linspace(0.0, 30.0, 301)\n",
    "sample_discounts = [ curve.discount(t) for t in sample_times ]\n",
    "\n",
    "schedule = Schedule(today, calendar.advance(today, 15, Years), Period(Semiannual),\n",
    "\tcalendar, ModifiedFollowing, ModifiedFollowing, DateGeneration.Backward, False)\n",
    "bond = FixedRateBond(3, 100.0, schedule, [0.04], Actual360())\n",
    "bond.setPricingEngine(DiscountingBondEngine(YieldTermStructureHandle(curve)))\n",
    "print(bond.cleanPrice())\n",
    "\n",
    "prices = []\n",
    "def print_price():\n",
    "\tp = bond.cleanPrice()\n",
    "\tprices.append(p)\n",
    "\tprint(p)\n",
    "o = Observer(print_price)\n",
    "o.registerWith(bond)\n",
    "\n",
    "quotes[2].setValue(101.0)\n",
    "\n",
    "quotes[2].setValue(100.0)\n",
    "\n",
    "prices = []\n",
    "for q in quotes:\n",
    "\tq.setValue(101.0)\n",
    "\n",
    "plt.title(\"Bond Price Curve\")\n",
    "plt.xlabel(\"Time in Years\")\n",
    "plt.ylabel(\"Bond Price\")\n",
    "plt.style.use('seaborn-whitegrid')\n",
    "\n",
    "unique_prices = prices[::2]+prices[-1::]\n",
    "plt.plot(unique_prices, '-');\n",
    "plt.show()\n",
    "\n",
    "bond.freeze()\n",
    "for q in quotes:\n",
    "\tq.setValue(101.5)\n",
    "\n",
    "bond.unfreeze()\n"
   ]
  },
  {
   "cell_type": "code",
   "execution_count": null,
   "metadata": {},
   "outputs": [],
   "source": []
  }
 ],
 "metadata": {
  "kernelspec": {
   "display_name": "Python 3",
   "language": "python",
   "name": "python3"
  },
  "language_info": {
   "codemirror_mode": {
    "name": "ipython",
    "version": 3
   },
   "file_extension": ".py",
   "mimetype": "text/x-python",
   "name": "python",
   "nbconvert_exporter": "python",
   "pygments_lexer": "ipython3",
   "version": "3.6.5"
  }
 },
 "nbformat": 4,
 "nbformat_minor": 2
}
