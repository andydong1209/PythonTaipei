{
 "cells": [
  {
   "cell_type": "code",
   "execution_count": 8,
   "metadata": {},
   "outputs": [
    {
     "name": "stdout",
     "output_type": "stream",
     "text": [
      "-------------------\n",
      "Observer 2 notified\n",
      "-------------------\n",
      "-------------------\n",
      "Observer 1 notified\n",
      "-------------------\n"
     ]
    }
   ],
   "source": [
    "%matplotlib inline\n",
    "from QuantLib import *\n",
    "import numpy as np\n",
    "import matplotlib.pyplot as plt\n",
    "\n",
    "Settings.instance().evaluationDate = Date(3, October, 2014)\n",
    "\n",
    "helpers = [ SwapRateHelper(QuoteHandle(SimpleQuote(rate/100.0)), Period(*tenor), TARGET(), Annual, Unadjusted, Thirty360(), Euribor6M())\n",
    "            for tenor, rate in [((2,Years), 0.201), ((3,Years), 0.258), ((5,Years), 0.464), ((10,Years), 1.151), ((15,Years), 1.588)] ]\n",
    "\n",
    "curve1 = PiecewiseFlatForward(0, TARGET(), helpers, Actual360())\n",
    "dates, rates = zip(*curve1.nodes())\n",
    "curve2 = ForwardCurve(dates, rates, Actual360())\n",
    "\n",
    "times = np.linspace(0.0, 15.0, 400)\n",
    "rates = [ curve1.zeroRate(t, Continuous).rate() for t in times ]\n",
    "\n",
    "Settings.instance().evaluationDate = Date(19, September, 2014)\n",
    "\n",
    "def make_observer(i):\n",
    "\tdef say():\n",
    "\t\ts = \"Observer %d notified\" % i\n",
    "\t\tprint('-'*len(s))\n",
    "\t\tprint(s)\n",
    "\t\tprint('-'*len(s))\n",
    "\treturn Observer(say)\n",
    "\n",
    "obs1 = make_observer(1)\n",
    "obs2 = make_observer(2)\n",
    "\n",
    "q1 = SimpleQuote(1.0)\n",
    "obs1.registerWith(q1)\n",
    "\n",
    "q2 = SimpleQuote(2.0)\n",
    "obs2.registerWith(q2)\n",
    "\n",
    "q3 = SimpleQuote(3.0)\n",
    "obs1.registerWith(q3)\n",
    "obs2.registerWith(q3)\n",
    "\n",
    "#q1.setValue(1.5)\n",
    "#q2.setValue(1.9)\n",
    "q3.setValue(3.1)\n",
    "\n",
    "obs1.registerWith(curve1)\n",
    "obs2.registerWith(curve2)\n",
    "\n",
    "Settings.instance().evaluationDate = Date(23, September, 2014)\n"
   ]
  },
  {
   "cell_type": "code",
   "execution_count": null,
   "metadata": {},
   "outputs": [],
   "source": []
  }
 ],
 "metadata": {
  "kernelspec": {
   "display_name": "Python 3",
   "language": "python",
   "name": "python3"
  },
  "language_info": {
   "codemirror_mode": {
    "name": "ipython",
    "version": 3
   },
   "file_extension": ".py",
   "mimetype": "text/x-python",
   "name": "python",
   "nbconvert_exporter": "python",
   "pygments_lexer": "ipython3",
   "version": "3.6.5"
  }
 },
 "nbformat": 4,
 "nbformat_minor": 2
}
