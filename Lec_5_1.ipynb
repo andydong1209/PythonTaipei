{
 "cells": [
  {
   "cell_type": "code",
   "execution_count": 2,
   "metadata": {},
   "outputs": [
    {
     "name": "stdout",
     "output_type": "stream",
     "text": [
      "((Date(3,10,2014), 0.001977769487929318), (Date(7,10,2016), 0.001977769487929318), (Date(9,10,2017), 0.0036475517704511913), (Date(7,10,2019), 0.007660760701876774), (Date(7,10,2024), 0.01841477366942081), (Date(8,10,2029), 0.025311634328221526))\n"
     ]
    }
   ],
   "source": [
    "%matplotlib inline\n",
    "from QuantLib import *\n",
    "import numpy as np\n",
    "import matplotlib.pyplot as plt\n",
    "\n",
    "Settings.instance().evaluationDate = Date(3, October, 2014)\n",
    "\n",
    "helpers = [ SwapRateHelper(QuoteHandle(SimpleQuote(rate/100.0)),\n",
    "\tPeriod(*tenor), TARGET(), Annual, Unadjusted, Thirty360(), Euribor6M())\n",
    "for tenor, rate in [((2,Years), 0.201), ((3,Years), 0.258), ((5,Years), 0.464),\n",
    "\t((10,Years), 1.151), ((15,Years), 1.588)] ]\n",
    "\n",
    "curve1 = PiecewiseFlatForward(0, TARGET(), helpers, Actual360())\n",
    "\n",
    "dates, rates = zip(*curve1.nodes())\n",
    "print(curve1.nodes())\n"
   ]
  },
  {
   "cell_type": "code",
   "execution_count": 3,
   "metadata": {},
   "outputs": [
    {
     "name": "stdout",
     "output_type": "stream",
     "text": [
      "October 3rd, 2014 to October 8th, 2029\n",
      "October 3rd, 2014 to October 8th, 2029\n",
      "0.452196 % Actual/360 continuous compounding\n",
      "0.452196 % Actual/360 continuous compounding\n",
      "0.452196 % Actual/360 continuous compounding\n",
      "0.452196 % Actual/360 continuous compounding\n"
     ]
    }
   ],
   "source": [
    "curve2 = ForwardCurve(dates, rates, Actual360())\n",
    "print(\"{0} to {1}\".format(curve1.referenceDate(), curve1.maxDate()))\n",
    "print(\"{0} to {1}\".format(curve2.referenceDate(), curve2.maxDate()))\n",
    "\n",
    "print(curve1.zeroRate(5.0, Continuous))\n",
    "print(curve2.zeroRate(5.0, Continuous))\n",
    "\n",
    "print(curve1.zeroRate(Date(7, September, 2019), Actual360(), Continuous))\n",
    "print(curve2.zeroRate(Date(7, September, 2019), Actual360(), Continuous))\n"
   ]
  },
  {
   "cell_type": "code",
   "execution_count": 4,
   "metadata": {},
   "outputs": [
    {
     "data": {
      "image/png": "[encoded data removed]",
      "text/plain": [
       "<Figure size 432x288 with 1 Axes>"
      ]
     },
     "metadata": {},
     "output_type": "display_data"
    }
   ],
   "source": [
    "times = np.linspace(0.0, 15.0, 400)\n",
    "rates = [ curve1.zeroRate(t, Continuous).rate() for t in times ]\n",
    "\n",
    "fig = plt.figure()\n",
    "plt.title(\"Yield Curve of Swap\")\n",
    "plt.xlabel(\"Time in Years\")\n",
    "plt.ylabel(\"Swap Rate\")\n",
    "plt.style.use('seaborn-whitegrid')\n",
    "\n",
    "plt.plot(times, rates);\n",
    "plt.show()\n"
   ]
  },
  {
   "cell_type": "code",
   "execution_count": null,
   "metadata": {},
   "outputs": [],
   "source": []
  }
 ],
 "metadata": {
  "kernelspec": {
   "display_name": "Python 3",
   "language": "python",
   "name": "python3"
  },
  "language_info": {
   "codemirror_mode": {
    "name": "ipython",
    "version": 3
   },
   "file_extension": ".py",
   "mimetype": "text/x-python",
   "name": "python",
   "nbconvert_exporter": "python",
   "pygments_lexer": "ipython3",
   "version": "3.6.5"
  }
 },
 "nbformat": 4,
 "nbformat_minor": 2
}
