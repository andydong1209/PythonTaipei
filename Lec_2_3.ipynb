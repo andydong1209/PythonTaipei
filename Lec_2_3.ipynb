{
 "cells": [
  {
   "cell_type": "code",
   "execution_count": 1,
   "metadata": {},
   "outputs": [
    {
     "name": "stdout",
     "output_type": "stream",
     "text": [
      "7.27556357927846\n"
     ]
    }
   ],
   "source": [
    "from QuantLib import *\n",
    "import numpy as np\n",
    "import matplotlib.pyplot as plt\n",
    "\n",
    "today = Date(7, March, 2014)\n",
    "Settings.instance().evaluationDate = today\n",
    "\n",
    "option = EuropeanOption(PlainVanillaPayoff(Option.Call, 100.0), \n",
    "\tEuropeanExercise(Date(7, June, 2014)))\n",
    "u = SimpleQuote(105.0)\n",
    "r = SimpleQuote(0.01)\n",
    "sigma = SimpleQuote(0.20)\n",
    "\n",
    "riskFreeCurve = FlatForward(0, TARGET(), QuoteHandle(r), Actual360())\n",
    "volatility = BlackConstantVol(0, TARGET(), QuoteHandle(sigma), Actual360())\n",
    "process = BlackScholesProcess(QuoteHandle(u), \n",
    "\tYieldTermStructureHandle(riskFreeCurve), \n",
    "\tBlackVolTermStructureHandle(volatility))\n",
    "\n",
    "engine = AnalyticEuropeanEngine(process)\n",
    "option.setPricingEngine(engine)\n",
    "print(option.NPV())\n"
   ]
  },
  {
   "cell_type": "code",
   "execution_count": 2,
   "metadata": {},
   "outputs": [
    {
     "name": "stdout",
     "output_type": "stream",
     "text": [
      "7.295356086978643\n"
     ]
    }
   ],
   "source": [
    "model = HestonModel(HestonProcess(YieldTermStructureHandle(riskFreeCurve), \n",
    "\tYieldTermStructureHandle(FlatForward(0, TARGET(), 0.0, Actual360())), \n",
    "\tQuoteHandle(u), 0.04, 0.1, 0.01, 0.05, -0.75))\n",
    "\n",
    "engine = AnalyticHestonEngine(model)\n",
    "option.setPricingEngine(engine)\n",
    "print(option.NPV())\n"
   ]
  },
  {
   "cell_type": "code",
   "execution_count": null,
   "metadata": {},
   "outputs": [],
   "source": []
  }
 ],
 "metadata": {
  "kernelspec": {
   "display_name": "Python 3",
   "language": "python",
   "name": "python3"
  },
  "language_info": {
   "codemirror_mode": {
    "name": "ipython",
    "version": 3
   },
   "file_extension": ".py",
   "mimetype": "text/x-python",
   "name": "python",
   "nbconvert_exporter": "python",
   "pygments_lexer": "ipython3",
   "version": "3.6.5"
  }
 },
 "nbformat": 4,
 "nbformat_minor": 2
}
