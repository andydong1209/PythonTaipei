{
 "cells": [
  {
   "cell_type": "code",
   "execution_count": 1,
   "metadata": {},
   "outputs": [],
   "source": [
    "from QuantLib import *\n",
    "\n",
    "today = Date(8, October, 2014)\n",
    "Settings.instance().evaluationDate = today\n",
    "\n",
    "option = BarrierOption(Barrier.UpIn, 120.0, # barrier \n",
    "\t0.0, # rebate \n",
    "\tPlainVanillaPayoff(Option.Call, 100.0), \n",
    "\tEuropeanExercise(Date(8, January, 2015)))\n",
    "\n",
    "u = SimpleQuote(100.0)\n",
    "r = SimpleQuote(0.01)\n",
    "sigma = SimpleQuote(0.20)\n"
   ]
  },
  {
   "cell_type": "code",
   "execution_count": 2,
   "metadata": {},
   "outputs": [
    {
     "name": "stdout",
     "output_type": "stream",
     "text": [
      "1.3657980739109867\n"
     ]
    }
   ],
   "source": [
    "riskFreeCurve = FlatForward(0, TARGET(), QuoteHandle(r), Actual360())\n",
    "volatility = BlackConstantVol(0, TARGET(), QuoteHandle(sigma), Actual360())\n",
    "process = BlackScholesProcess(QuoteHandle(u), YieldTermStructureHandle(riskFreeCurve),\n",
    "\tBlackVolTermStructureHandle(volatility))\n",
    "option.setPricingEngine(AnalyticBarrierEngine(process))\n",
    "\n",
    "u0 = u.value(); h = 0.01\n",
    "P0 = option.NPV()\n",
    "print(P0)\n"
   ]
  },
  {
   "cell_type": "code",
   "execution_count": 3,
   "metadata": {},
   "outputs": [
    {
     "name": "stdout",
     "output_type": "stream",
     "text": [
      "1.3688112201958083\n",
      "1.3627900998610207\n",
      "0.3010560167393761\n",
      "0.05172234855521651\n"
     ]
    }
   ],
   "source": [
    "u.setValue(u0+h)\n",
    "P_plus = option.NPV()\n",
    "print(P_plus)\n",
    "\n",
    "u.setValue(u0-h)\n",
    "P_minus = option.NPV()\n",
    "print(P_minus)\n",
    "\n",
    "u.setValue(u0)\n",
    "Delta = (P_plus - P_minus)/(2*h)\n",
    "Gamma = (P_plus - 2*P0 + P_minus)/(h*h)\n",
    "print(Delta)\n",
    "print(Gamma)\n"
   ]
  },
  {
   "cell_type": "code",
   "execution_count": 4,
   "metadata": {},
   "outputs": [
    {
     "name": "stdout",
     "output_type": "stream",
     "text": [
      "6.531038494277386\n",
      "26.52519924198904\n",
      "-10.770888399441302\n"
     ]
    }
   ],
   "source": [
    "r0 = r.value() ; h = 0.0001\n",
    "r.setValue(r0+h) ; P_plus = option.NPV()\n",
    "r.setValue(r0)\n",
    "Rho = (P_plus - P0)/h\n",
    "print(Rho)\n",
    "\n",
    "sigma0 = sigma.value() ; h = 0.0001\n",
    "sigma.setValue(sigma0+h) ; P_plus = option.NPV()\n",
    "sigma.setValue(sigma0)\n",
    "Vega = (P_plus - P0)/h\n",
    "print(Vega)\n",
    "\n",
    "Settings.instance().evaluationDate = today+1\n",
    "P1 = option.NPV()\n",
    "h = 1.0/365\n",
    "Theta = (P1-P0)/h\n",
    "print(Theta)\n"
   ]
  },
  {
   "cell_type": "code",
   "execution_count": null,
   "metadata": {},
   "outputs": [],
   "source": []
  }
 ],
 "metadata": {
  "kernelspec": {
   "display_name": "Python 3",
   "language": "python",
   "name": "python3"
  },
  "language_info": {
   "codemirror_mode": {
    "name": "ipython",
    "version": 3
   },
   "file_extension": ".py",
   "mimetype": "text/x-python",
   "name": "python",
   "nbconvert_exporter": "python",
   "pygments_lexer": "ipython3",
   "version": "3.6.5"
  }
 },
 "nbformat": 4,
 "nbformat_minor": 2
}
