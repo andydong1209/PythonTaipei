{
 "cells": [
  {
   "cell_type": "code",
   "execution_count": 1,
   "metadata": {},
   "outputs": [
    {
     "name": "stdout",
     "output_type": "stream",
     "text": [
      "105.77449628297312\n"
     ]
    }
   ],
   "source": [
    "#%matplotlib inline\n",
    "import numpy as np\n",
    "from QuantLib import *\n",
    "import matplotlib.pyplot as plt\n",
    "\n",
    "today = Date(17, October, 2016)\n",
    "Settings.instance().evaluationDate = today\n",
    "\n",
    "data = [ (2, 0.02), (4, 0.0225), (6, 0.025), (8, 0.0275), (10, 0.03), (12, 0.0325), \n",
    "\t(14, 0.035), (16, 0.0375), (18, 0.04), (20, 0.0425), (22, 0.045), (24, 0.0475),\n",
    "\t(26, 0.05), (28, 0.0525), (30, 0.055)]\n",
    "\n",
    "calendar = TARGET()\n",
    "settlement = calendar.advance(today, 3, Days)\n",
    "quotes = []\n",
    "helpers = []\n",
    "for length, coupon in data:\n",
    "\tmaturity = calendar.advance(settlement, length, Years)\n",
    "\tschedule = Schedule(settlement, maturity, Period(Annual), calendar,\n",
    "\t\tModifiedFollowing, ModifiedFollowing, DateGeneration.Backward, False)\n",
    "\tquote = SimpleQuote(100.0)\n",
    "\tquotes.append(quote)\n",
    "\thelpers.append(FixedRateBondHelper(QuoteHandle(quote), 3, 100.0, schedule, [coupon],\n",
    "\t\tSimpleDayCounter(), ModifiedFollowing))\n",
    "\tcurve = FittedBondDiscountCurve(0, calendar, helpers, SimpleDayCounter(),\n",
    "\t\tNelsonSiegelFitting())\n",
    "\n",
    "sample_times = np.linspace(0.0, 30.0, 301)\n",
    "sample_discounts = [ curve.discount(t) for t in sample_times ]\n",
    "\n",
    "schedule = Schedule(today, calendar.advance(today, 15, Years), Period(Semiannual),\n",
    "\tcalendar, ModifiedFollowing, ModifiedFollowing, DateGeneration.Backward, False)\n",
    "bond = FixedRateBond(3, 100.0, schedule, [0.04], Actual360())\n",
    "bond.setPricingEngine(DiscountingBondEngine(YieldTermStructureHandle(curve)))\n",
    "print(bond.cleanPrice())\n"
   ]
  },
  {
   "cell_type": "code",
   "execution_count": null,
   "metadata": {},
   "outputs": [],
   "source": []
  }
 ],
 "metadata": {
  "kernelspec": {
   "display_name": "Python 3",
   "language": "python",
   "name": "python3"
  },
  "language_info": {
   "codemirror_mode": {
    "name": "ipython",
    "version": 3
   },
   "file_extension": ".py",
   "mimetype": "text/x-python",
   "name": "python",
   "nbconvert_exporter": "python",
   "pygments_lexer": "ipython3",
   "version": "3.6.5"
  }
 },
 "nbformat": 4,
 "nbformat_minor": 2
}
